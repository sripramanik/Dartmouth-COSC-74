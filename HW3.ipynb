{
 "cells": [
  {
   "cell_type": "markdown",
   "metadata": {},
   "source": [
    "Please run the cell below to import libraries needed for this HW. Please use the autograd numpy, otherwise you will have issues. Please remember to always use the np library for mathematical functions (e.g., np.log, np.exp, np.sum, etc)"
   ]
  },
  {
   "cell_type": "code",
   "execution_count": 22,
   "metadata": {},
   "outputs": [],
   "source": [
    "import autograd.numpy as np\n",
    "from autograd import grad \n",
    "import matplotlib.pyplot as plt\n",
    "%matplotlib inline"
   ]
  },
  {
   "cell_type": "markdown",
   "metadata": {},
   "source": [
    "Q1) [5 points] Implement the sigmod funcation discussed in class. The function takes a value, x, as input and returns the sigmoid function applied to the value."
   ]
  },
  {
   "cell_type": "code",
   "execution_count": 23,
   "metadata": {},
   "outputs": [],
   "source": [
    "def sigmoid(x):\n",
    "    y = 1/(1 + np.exp(-x))    \n",
    "    return y"
   ]
  },
  {
   "cell_type": "markdown",
   "metadata": {},
   "source": [
    "Q2) [20 points] Implement the logistic regression model and the cross entropy cost discussed in class. Note that the logistic regression model relies on the sigmoid function (which you have implemented above) and the linear  model (which you have implemented in HW2). You can use the linear model from HW2 for this problem. Similar to the least-squares cost from HW2, the cross entropy cost takes in as input an array of weights, w, an array of x's and an array of ys and return a float indicating the total cost."
   ]
  },
  {
   "cell_type": "code",
   "execution_count": 24,
   "metadata": {},
   "outputs": [],
   "source": [
    "#method 1 \n",
    "#with epsilon"
   ]
  },
  {
   "cell_type": "code",
   "execution_count": 25,
   "metadata": {},
   "outputs": [],
   "source": [
    "#Your linear model from HW2\n",
    "def model(x,w):\n",
    "    y_predicted = w[0] + np.dot(x.T,w[1:])\n",
    "    return y_predicted.T\n",
    "\n",
    "#define epsilone to prevent log 0 error\n",
    "epsilon = 1e-5 \n",
    "\n",
    "#The logistic regression cross entropy cost\n",
    "def cross_entropy(w,x,y):\n",
    "    y_p = sigmoid(model(x,w))\n",
    "    p = y.size\n",
    "    cost = - np.sum(y * np.log(y_p + epsilon) + (1 - y) * np.log(1 - y_p + epsilon))\n",
    "    cost = (1/p)*(cost)\n",
    "    return cost"
   ]
  },
  {
   "cell_type": "code",
   "execution_count": 26,
   "metadata": {},
   "outputs": [],
   "source": [
    "#method 2\n",
    "#alternative approach without epsilon"
   ]
  },
  {
   "cell_type": "code",
   "execution_count": 27,
   "metadata": {},
   "outputs": [],
   "source": [
    "#Your linear model from HW2\n",
    "def model(x,w):\n",
    "    y_predicted = w[0] + np.dot(x.T,w[1:])\n",
    "    return y_predicted.T\n",
    "\n",
    "#The logistic regression cross entropy cost\n",
    "def cross_entropy(w,x,y):   \n",
    "    y_p = sigmoid(model(x,w))\n",
    "    # extract indices and compute cost of y = 0 points\n",
    "    ind = np.argwhere(y == 0)[:,1]\n",
    "    cost = -np.sum(np.log(1 - y_p[:,ind]))\n",
    "    # extract index and compute cost of y = 1 points\n",
    "    ind = np.argwhere(y==1)[:,1]\n",
    "    cost -= np.sum(np.log(y_p[:,ind]))\n",
    "    p = y.size\n",
    "    cost = (1/p)*(cost)\n",
    "    return cost"
   ]
  },
  {
   "cell_type": "markdown",
   "metadata": {},
   "source": [
    "Q3) [2 points] Run the code below to read a data file. Plot a scatter plot of x vs y."
   ]
  },
  {
   "cell_type": "code",
   "execution_count": 28,
   "metadata": {},
   "outputs": [
    {
     "data": {
      "text/plain": [
       "Text(0, 0.5, 'y')"
      ]
     },
     "execution_count": 28,
     "metadata": {},
     "output_type": "execute_result"
    },
    {
     "data": {
      "image/png": "[encoded data removed]",
      "text/plain": [
       "<Figure size 432x288 with 1 Axes>"
      ]
     },
     "metadata": {
      "needs_background": "light"
     },
     "output_type": "display_data"
    }
   ],
   "source": [
    "csvname = '/Users/siripramanik/Desktop/Spring 2021/ML - Vosoughi/HW3/2d_classification_data_v1_entropy.csv'\n",
    "data = np.loadtxt(csvname,delimiter = ',')\n",
    "x = data[:-1,:]\n",
    "y = data[-1:,:] \n",
    "\n",
    "plt.scatter(x, y, color='red')\n",
    "plt.xlabel('x')\n",
    "plt.ylabel('y')"
   ]
  },
  {
   "cell_type": "markdown",
   "metadata": {},
   "source": [
    "Q4) [10 points] Move the gradient descent function from HW2. Run the function using the cross_entropy cost and the x and y from above. The parameters should be set to: max_its=2000,w=[3.0,3.0 ], and alpha=1. Save the cost and weight history returned by the gradient descent function. Plot the cost history.\n"
   ]
  },
  {
   "cell_type": "code",
   "execution_count": 29,
   "metadata": {},
   "outputs": [],
   "source": [
    "##gradient descent from HW2\n",
    "def gradient_descent(g,alpha,max_its,w,x,y):\n",
    "    w_history = [w]                 \n",
    "    cost_history = [g(w,x,y)]  \n",
    "    gradient = grad(g) \n",
    "    for k in range(1,max_its):\n",
    "        w = w - alpha*gradient(w,x,y)\n",
    "        w_history.append(w)\n",
    "        cost_history.append(g(w,x,y))\n",
    "    return w_history,cost_history"
   ]
  },
  {
   "cell_type": "code",
   "execution_count": 30,
   "metadata": {},
   "outputs": [],
   "source": [
    "##Call the gradient_descent function here\n",
    "max_its=2000\n",
    "w=np.array([3.0,3.0]).reshape((2,1))\n",
    "alpha1=1\n",
    "g = cross_entropy\n",
    "\n",
    "weight_history, cost_history = gradient_descent(g,alpha1,max_its,w,x,y)"
   ]
  },
  {
   "cell_type": "code",
   "execution_count": 31,
   "metadata": {},
   "outputs": [
    {
     "data": {
      "text/plain": [
       "[<matplotlib.lines.Line2D at 0x7f845728fb20>]"
      ]
     },
     "execution_count": 31,
     "metadata": {},
     "output_type": "execute_result"
    },
    {
     "data": {
      "image/png": "[encoded data removed]",
      "text/plain": [
       "<Figure size 432x288 with 1 Axes>"
      ]
     },
     "metadata": {
      "needs_background": "light"
     },
     "output_type": "display_data"
    }
   ],
   "source": [
    "##Plot the cost history here\n",
    "plt.plot(cost_history)"
   ]
  },
  {
   "cell_type": "markdown",
   "metadata": {},
   "source": [
    "Q5) [10 points] Implement a logistic regression classifier that takes in the learned weights and x as input and returns the probability of the positive class (note that this is just the output of the sigmoid applied to the linear combination of the x and w)"
   ]
  },
  {
   "cell_type": "code",
   "execution_count": 32,
   "metadata": {},
   "outputs": [],
   "source": [
    "def logistic_regression(learned_w,x):\n",
    "    positive_class_prob = sigmoid(model(x,learned_w)) \n",
    "    return positive_class_prob"
   ]
  },
  {
   "cell_type": "markdown",
   "metadata": {},
   "source": [
    "Q6) [5 points] Use the learned weights from the last gradient descent run and the logistic regression function implemented above to plot the learned curve. You can use the linspace method (shown below) to generate a list of xs that you can use. You need to generate a y for each of the candidate xs using the logistic regression function and the learned weights. On the same figure, also plot the scatter plot from Q3. \n"
   ]
  },
  {
   "cell_type": "code",
   "execution_count": 33,
   "metadata": {},
   "outputs": [
    {
     "data": {
      "text/plain": [
       "<matplotlib.collections.PathCollection at 0x7f84590dbfd0>"
      ]
     },
     "execution_count": 33,
     "metadata": {},
     "output_type": "execute_result"
    },
    {
     "data": {
      "image/png": "[encoded data removed]",
      "text/plain": [
       "<Figure size 432x288 with 1 Axes>"
      ]
     },
     "metadata": {
      "needs_background": "light"
     },
     "output_type": "display_data"
    }
   ],
   "source": [
    "s = np.linspace(np.min(x),np.max(x))\n",
    "learned_w = weight_history[-1]\n",
    "y_pred = logistic_regression(learned_w,(np.array([s])))[0]\n",
    "plt.plot(s,y_pred,color = 'red')\n",
    "plt.scatter(x, y, color='blue')"
   ]
  },
  {
   "cell_type": "markdown",
   "metadata": {},
   "source": [
    "Q7) [5 points] Slightly modify the logistic regression model above so that it returns a 1 or 0 based on the specified threshold."
   ]
  },
  {
   "cell_type": "code",
   "execution_count": 34,
   "metadata": {},
   "outputs": [],
   "source": [
    "def logistic_regression_modified(learned_w,x, threshold):\n",
    "    positive_class_prob = sigmoid(model(x,learned_w))\n",
    "    class_label=positive_class_prob>=threshold\n",
    "    return class_label"
   ]
  },
  {
   "cell_type": "markdown",
   "metadata": {},
   "source": [
    "Q8) [15 points] Write a function (called evaluate) that takes in actual and predicted ys (for a binary classification problem) and return a confusion matrix and the accuracy. Use the modified logistic regression model and the evaluate function below to report the confusion matrix and accuracy for the x and y used for our training at a threshold of 0.5.  "
   ]
  },
  {
   "cell_type": "code",
   "execution_count": 35,
   "metadata": {},
   "outputs": [],
   "source": [
    "def evaluate(y_actual,y_pred):\n",
    "    \n",
    "    y_actual = y_actual[0]\n",
    "    true_positive = 0\n",
    "    false_positive = 0\n",
    "    true_negative = 0\n",
    "    false_negative = 0\n",
    "    accuracy = 0\n",
    "\n",
    "    for n in range(len(y_actual)): \n",
    "        if y_pred[n]==1:\n",
    "            if y_actual[n]==y_pred[n]:\n",
    "                true_positive += 1\n",
    "            elif y_actual[n]!=y_pred[n]:\n",
    "                false_positive += 1\n",
    "        elif y_pred[n]==0:\n",
    "            if y_actual[n]==y_pred[n]:\n",
    "                true_negative += 1\n",
    "            elif y_actual[n]!=y_pred[n]:\n",
    "                false_negative += 1\n",
    "   \n",
    "    accuracy = (true_positive + true_negative)/(true_positive + false_positive + false_negative + true_negative)\n",
    "    \n",
    "    return false_positive, false_negative, true_positive, true_negative, accuracy"
   ]
  },
  {
   "cell_type": "code",
   "execution_count": 36,
   "metadata": {},
   "outputs": [
    {
     "name": "stdout",
     "output_type": "stream",
     "text": [
      "\n",
      "False Positive:  0\n",
      "\n",
      "False Negative:  0\n",
      "\n",
      "True Positive:   6\n",
      "\n",
      "True Negative:   5\n",
      "\n",
      "Accuracy:        1.0\n"
     ]
    }
   ],
   "source": [
    "threshold1 = 0.5\n",
    "y_pred_lrm = logistic_regression_modified(learned_w,x,threshold1)[0]\n",
    "\n",
    "fp, fn, tp, tn, ac = evaluate(y,y_pred_lrm)\n",
    "\n",
    "print('\\nFalse Positive: ',fp)\n",
    "print('\\nFalse Negative: ',fn)\n",
    "print('\\nTrue Positive:  ',tp)\n",
    "print('\\nTrue Negative:  ',tn)\n",
    "print('\\nAccuracy:       ',ac)"
   ]
  },
  {
   "cell_type": "markdown",
   "metadata": {},
   "source": [
    "Q9) [20 points] Implement the perceptron cost function from the class (the softmax version). Note that the perceptron cost also uses the linear model (the model function from question 2)."
   ]
  },
  {
   "cell_type": "code",
   "execution_count": 37,
   "metadata": {},
   "outputs": [],
   "source": [
    "def perceptron_cost(w,x,y):    \n",
    "    cost = np.sum(np.log(1 + np.exp(-y*model(x,w))))    \n",
    "    return cost"
   ]
  },
  {
   "cell_type": "markdown",
   "metadata": {},
   "source": [
    "Q10) [10 points] Run gradient descent function using the perceptron cost and the x and y from above and the parameters set to: max_its=2000,w=[1.0,1.0], and alpha=1.0. Save the cost and weight history returned by the gradient descent function. Plot the cost history. Which cost seems to do better on this dataset? Why do think that is?\n"
   ]
  },
  {
   "cell_type": "code",
   "execution_count": 38,
   "metadata": {},
   "outputs": [
    {
     "data": {
      "text/plain": [
       "[<matplotlib.lines.Line2D at 0x7f8458da3a90>]"
      ]
     },
     "execution_count": 38,
     "metadata": {},
     "output_type": "execute_result"
    },
    {
     "data": {
      "image/png": "[encoded data removed]",
      "text/plain": [
       "<Figure size 432x288 with 1 Axes>"
      ]
     },
     "metadata": {
      "needs_background": "light"
     },
     "output_type": "display_data"
    }
   ],
   "source": [
    "##Call the gradient_descent function here\n",
    "max_its_p=2000\n",
    "w_p=np.array([1.0,1.0]).reshape((2,1))\n",
    "alpha_p=1\n",
    "g_p = perceptron_cost\n",
    "\n",
    "#changing y labels from [0,1] to [-1,1] for perceptron model \n",
    "y_perceptron = np.where(y > 0, 1, -1)\n",
    "\n",
    "weight_history_p, cost_history_p = gradient_descent(g_p,alpha_p,max_its_p,w_p,x,y_perceptron)\n",
    "\n",
    "##Plot the cost history here\n",
    "plt.plot(cost_history_p)"
   ]
  },
  {
   "cell_type": "markdown",
   "metadata": {},
   "source": [
    "## The rest of these problems are for bonus points"
   ]
  },
  {
   "cell_type": "markdown",
   "metadata": {},
   "source": [
    "Q11) [2 points]  The file 'heart.csv' has 304 lines, each one corresponding to a data point. Each row (i.e., data point), has several columns. Read the data file. Note that the first line is the header describing each column."
   ]
  },
  {
   "cell_type": "code",
   "execution_count": 39,
   "metadata": {},
   "outputs": [],
   "source": [
    "import pandas as pd\n",
    "df = pd.read_csv('/Users/siripramanik/Desktop/Spring 2021/ML - Vosoughi/HW3/heart.csv')"
   ]
  },
  {
   "cell_type": "markdown",
   "metadata": {},
   "source": [
    "Q12) [2 points] Use the data above to set y to be the \"target\" and X to be the remaining columns."
   ]
  },
  {
   "cell_type": "code",
   "execution_count": 40,
   "metadata": {},
   "outputs": [],
   "source": [
    "y = df['target']\n",
    "x = df[['age', 'sex', 'cp', 'trestbps', 'chol', 'fbs', 'restecg', 'thalach', 'exang', 'oldpeak', 'slope', 'ca', 'thal']]"
   ]
  },
  {
   "cell_type": "markdown",
   "metadata": {},
   "source": [
    "Q13) [2 points] Run the code below to import the logistic regression and the train_test split functions from sklearn. Split your data into 80% train 20% test."
   ]
  },
  {
   "cell_type": "code",
   "execution_count": 41,
   "metadata": {},
   "outputs": [],
   "source": [
    "from sklearn.linear_model import LogisticRegression\n",
    "from sklearn.model_selection import train_test_split \n",
    "\n",
    "x_train, x_test, y_train, y_test = train_test_split(x, y, test_size=0.2, random_state=123)"
   ]
  },
  {
   "cell_type": "markdown",
   "metadata": {},
   "source": [
    "Q14) [5 points] Use sklearn to fit a logistic regression model on your training set. Use all the default parameter. Do not evaluate at this point. (You can find out about sklearn logistic regression here: https://scikit-learn.org/stable/modules/generated/sklearn.linear_model.LogisticRegression.html)"
   ]
  },
  {
   "cell_type": "code",
   "execution_count": 42,
   "metadata": {},
   "outputs": [
    {
     "name": "stderr",
     "output_type": "stream",
     "text": [
      "/Users/siripramanik/opt/anaconda3/lib/python3.9/site-packages/sklearn/linear_model/_logistic.py:814: ConvergenceWarning: lbfgs failed to converge (status=1):\n",
      "STOP: TOTAL NO. of ITERATIONS REACHED LIMIT.\n",
      "\n",
      "Increase the number of iterations (max_iter) or scale the data as shown in:\n",
      "    https://scikit-learn.org/stable/modules/preprocessing.html\n",
      "Please also refer to the documentation for alternative solver options:\n",
      "    https://scikit-learn.org/stable/modules/linear_model.html#logistic-regression\n",
      "  n_iter_i = _check_optimize_result(\n"
     ]
    }
   ],
   "source": [
    "model = LogisticRegression()\n",
    "model.fit(x_train, y_train)\n",
    "y_pred = model.predict(x_test)"
   ]
  },
  {
   "cell_type": "markdown",
   "metadata": {},
   "source": [
    "Q15) [5 points] Use the .predict_proba function of the logistic regression model that you have learned on your X_test. Note that the .predict_proba function returns an array of tuples where each element corresponds to the predicted probability for class 0 and 1 of the data point."
   ]
  },
  {
   "cell_type": "code",
   "execution_count": 43,
   "metadata": {},
   "outputs": [],
   "source": [
    "pred_prob = model.predict_proba(x_test)"
   ]
  },
  {
   "cell_type": "markdown",
   "metadata": {},
   "source": [
    "Q16) [2 points] Filter the predicted probabilties from the last question to an array containing only the probabilites for class 1. I.e., you should no longer have tuples."
   ]
  },
  {
   "cell_type": "code",
   "execution_count": 44,
   "metadata": {},
   "outputs": [],
   "source": [
    "prob_class1 = pred_prob[:,1:]"
   ]
  },
  {
   "cell_type": "markdown",
   "metadata": {},
   "source": [
    "Q17) [8 points] Use the roc_curve function from sklearn (https://scikit-learn.org/stable/modules/generated/sklearn.metrics.roc_curve.html) to plot the ROC curve for your predictions using the predicted probabilities for class 1 and your y_test (use the default parameters). Also, print out the thresholds generated by the roc_curve function."
   ]
  },
  {
   "cell_type": "code",
   "execution_count": 45,
   "metadata": {},
   "outputs": [
    {
     "name": "stdout",
     "output_type": "stream",
     "text": [
      "[1.99352194e+00 9.93521939e-01 8.46728673e-01 8.37948851e-01\n",
      " 8.03007545e-01 7.35805873e-01 7.07829274e-01 6.66039005e-01\n",
      " 6.33794109e-01 6.22928979e-01 4.98932156e-01 4.19818721e-01\n",
      " 4.04526895e-01 3.00633591e-01 2.14798316e-01 1.43678766e-01\n",
      " 9.99485911e-02 7.53091401e-02 5.94547282e-02 9.30674284e-04]\n"
     ]
    },
    {
     "data": {
      "image/png": "[encoded data removed]",
      "text/plain": [
       "<Figure size 432x288 with 1 Axes>"
      ]
     },
     "metadata": {
      "needs_background": "light"
     },
     "output_type": "display_data"
    }
   ],
   "source": [
    "##Your code here\n",
    "from sklearn import metrics\n",
    "fp, tp, threshold = metrics.roc_curve(y_test, prob_class1)\n",
    "plt.plot(fp, tp)\n",
    "plt.xlabel('FPR')\n",
    "plt.ylabel('TPR')\n",
    "print(threshold)"
   ]
  },
  {
   "cell_type": "markdown",
   "metadata": {},
   "source": [
    "Q18) [2 points] Use the roc_auc_score function from sklearn (https://scikit-learn.org/stable/modules/generated/sklearn.metrics.roc_auc_score.html#sklearn.metrics.roc_auc_score) to report the AUC score using the exact same setup as the last question."
   ]
  },
  {
   "cell_type": "code",
   "execution_count": 46,
   "metadata": {},
   "outputs": [
    {
     "data": {
      "text/plain": [
       "0.864516129032258"
      ]
     },
     "execution_count": 46,
     "metadata": {},
     "output_type": "execute_result"
    }
   ],
   "source": [
    "auc_score = metrics.roc_auc_score(y_test, prob_class1)\n",
    "auc_score"
   ]
  }
 ],
 "metadata": {
  "kernelspec": {
   "display_name": "Python 3 (ipykernel)",
   "language": "python",
   "name": "python3"
  },
  "language_info": {
   "codemirror_mode": {
    "name": "ipython",
    "version": 3
   },
   "file_extension": ".py",
   "mimetype": "text/x-python",
   "name": "python",
   "nbconvert_exporter": "python",
   "pygments_lexer": "ipython3",
   "version": "3.9.7"
  }
 },
 "nbformat": 4,
 "nbformat_minor": 2
}
