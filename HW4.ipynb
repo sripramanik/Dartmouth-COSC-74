{
 "cells": [
  {
   "cell_type": "code",
   "execution_count": 114,
   "id": "4879c9df",
   "metadata": {},
   "outputs": [],
   "source": [
    "#Naive Bayes"
   ]
  },
  {
   "cell_type": "code",
   "execution_count": 115,
   "id": "5533078d",
   "metadata": {},
   "outputs": [],
   "source": [
    "import pandas as pd\n",
    "import numpy as np\n",
    "from sklearn.model_selection import train_test_split\n",
    "from sklearn.metrics import accuracy_score\n",
    "from sklearn.metrics import f1_score"
   ]
  },
  {
   "cell_type": "code",
   "execution_count": 116,
   "id": "43a4d6ee",
   "metadata": {},
   "outputs": [],
   "source": [
    "#Q1\n",
    "df = pd.read_csv('/Users/siripramanik/Desktop/Spring 2021/ML - Vosoughi/HW4/hw4_naive.csv')\n",
    "\n",
    "label = 'Label'\n",
    "features = ['Feature_1', 'Feature_2', 'Feature_3', 'Feature_4', 'Feature_5', 'Feature_6']\n",
    "\n",
    "x = df[features]\n",
    "y = df[label]\n",
    "x = np.array(x, dtype=np.float64)\n",
    "y = np.array(y, dtype=np.int64)\n",
    "\n",
    "x_train, x_test, y_train, y_test = train_test_split(x, y, test_size=0.2, random_state=123)"
   ]
  },
  {
   "cell_type": "code",
   "execution_count": 117,
   "id": "98bbca08",
   "metadata": {},
   "outputs": [],
   "source": [
    "#Q3\n",
    "\n",
    "class GaussianNaiveBayes:\n",
    "    def fit(self, x, y):\n",
    "        self.n_samples, self.n_features = x.shape\n",
    "        self.n_classes = len(np.unique(y))\n",
    "        self.mean = np.zeros((self.n_classes, self.n_features))\n",
    "        self.variance = np.zeros((self.n_classes, self.n_features))\n",
    "        self.priors = np.zeros(self.n_classes)\n",
    "        for i in range(self.n_classes):\n",
    "            x_i = x[y == i]\n",
    "            self.mean[i, :] = np.mean(x_i, axis=0)\n",
    "            self.variance[i, :] = np.var(x_i, axis=0)\n",
    "            self.priors[i] = x_i.shape[0] / self.n_samples\n",
    "\n",
    "    def gaussian_density(self, x, mean, var):\n",
    "        prob = (1 / np.sqrt(var * 2 * np.pi)) * (np.exp(-0.5 * ((x - mean) ** 2 / var)))\n",
    "        return prob\n",
    "    \n",
    "    def posteriors_prob(self, x):\n",
    "        posteriors = list()\n",
    "        for i in range(self.n_classes):\n",
    "            mean = self.mean[i]\n",
    "            variance = self.variance[i]\n",
    "            prior = np.log(self.priors[i])\n",
    "            posterior = np.sum(np.log(self.gaussian_density(x, mean, variance)))\n",
    "            posterior += prior\n",
    "            posteriors.append(posterior)\n",
    "        return np.argmax(posteriors)\n",
    "    \n",
    "    def predict(self, x):\n",
    "        y_hat = [self.posteriors_prob(i) for i in x]\n",
    "        return np.array(y_hat)\n",
    "    \n",
    "nb = GaussianNaiveBayes()\n",
    "nb.fit(x_train, y_train)\n",
    "y_pred = nb.predict(x_test)"
   ]
  },
  {
   "cell_type": "code",
   "execution_count": 118,
   "id": "a2bb63e8",
   "metadata": {},
   "outputs": [
    {
     "name": "stdout",
     "output_type": "stream",
     "text": [
      "Accuracy of the Gaussian model: 0.5821428571428572\n",
      "F1 score of the Gaussian model: 0.5821428571428572\n"
     ]
    }
   ],
   "source": [
    "#Q4\n",
    "\n",
    "accuracy = accuracy_score(y_test, y_pred, normalize=True)\n",
    "print(\"Accuracy of the Gaussian model:\",accuracy)\n",
    "\n",
    "f1 = accuracy_score(y_test, y_pred, normalize=True)\n",
    "print(\"F1 score of the Gaussian model:\",f1)"
   ]
  }
 ],
 "metadata": {
  "kernelspec": {
   "display_name": "Python 3 (ipykernel)",
   "language": "python",
   "name": "python3"
  },
  "language_info": {
   "codemirror_mode": {
    "name": "ipython",
    "version": 3
   },
   "file_extension": ".py",
   "mimetype": "text/x-python",
   "name": "python",
   "nbconvert_exporter": "python",
   "pygments_lexer": "ipython3",
   "version": "3.9.7"
  }
 },
 "nbformat": 4,
 "nbformat_minor": 5
}
